{
 "cells": [
  {
   "cell_type": "code",
   "execution_count": 1,
   "metadata": {},
   "outputs": [],
   "source": [
    "#import library \n",
    "import pandas as pd\n",
    "import numpy as np"
   ]
  },
  {
   "cell_type": "code",
   "execution_count": 2,
   "metadata": {},
   "outputs": [
    {
     "data": {
      "text/plain": [
       "'C:\\\\Users\\\\hp'"
      ]
     },
     "execution_count": 2,
     "metadata": {},
     "output_type": "execute_result"
    }
   ],
   "source": [
    "import os\n",
    "os.getcwd()"
   ]
  },
  {
   "cell_type": "code",
   "execution_count": 3,
   "metadata": {},
   "outputs": [],
   "source": [
    "os.chdir('C:/Users/hp/Desktop/Iteration1')"
   ]
  },
  {
   "cell_type": "code",
   "execution_count": 4,
   "metadata": {},
   "outputs": [
    {
     "name": "stderr",
     "output_type": "stream",
     "text": [
      "C:\\Users\\hp\\Anaconda3\\lib\\site-packages\\IPython\\core\\interactiveshell.py:2728: DtypeWarning: Columns (16,19,20,21,22,53,54,55,57) have mixed types. Specify dtype option on import or set low_memory=False.\n",
      "  interactivity=interactivity, compiler=compiler, result=result)\n"
     ]
    }
   ],
   "source": [
    "df1 = pd.read_csv('74speciesforvictoriaDataafteryear2015.csv')\n",
    "df2 = pd.read_csv('52speciesforvictoriaDataafteryear2015.csv')\n",
    "df3 = pd.read_csv('4speciesforvictoriaDataafteryear2015.csv')"
   ]
  },
  {
   "cell_type": "code",
   "execution_count": 5,
   "metadata": {},
   "outputs": [],
   "source": [
    "df4 = pd.concat([df1,df2,df3])"
   ]
  },
  {
   "cell_type": "code",
   "execution_count": 6,
   "metadata": {},
   "outputs": [
    {
     "name": "stdout",
     "output_type": "stream",
     "text": [
      "<class 'pandas.core.frame.DataFrame'>\n",
      "Int64Index: 691194 entries, 0 to 926\n",
      "Data columns (total 58 columns):\n",
      "Unnamed: 0                       691194 non-null int64\n",
      "id                               691194 non-null object\n",
      "catalogueNumber                  601577 non-null object\n",
      "taxonConceptLsid                 691090 non-null object\n",
      "scientificNameOriginal           684503 non-null object\n",
      "commonNameOriginal               674948 non-null object\n",
      "scientificName                   691090 non-null object\n",
      "rank                             691090 non-null object\n",
      "commonName                       627191 non-null object\n",
      "kingdom                          690380 non-null object\n",
      "phylum                           690162 non-null object\n",
      "class                            690139 non-null object\n",
      "order                            690042 non-null object\n",
      "family                           690082 non-null object\n",
      "genus                            689846 non-null object\n",
      "species                          683049 non-null object\n",
      "subspecies                       85715 non-null object\n",
      "dataResourceID                   691194 non-null object\n",
      "dataResourceName                 691194 non-null object\n",
      "institutionID                    840 non-null object\n",
      "institution                      840 non-null object\n",
      "collectionID                     840 non-null object\n",
      "collection                       840 non-null object\n",
      "licence                          691194 non-null object\n",
      "institutionCode                  10628 non-null object\n",
      "collectionCode                   10628 non-null object\n",
      "locality                         669176 non-null object\n",
      "latitudeOriginal                 691181 non-null float64\n",
      "longitudeOriginal                691181 non-null float64\n",
      "geodeticDatumOriginal            230341 non-null object\n",
      "latitude                         691181 non-null float64\n",
      "longitude                        691181 non-null float64\n",
      "coordinatePrecision              0 non-null float64\n",
      "coordinateUncertaintyInMetres    39099 non-null float64\n",
      "country                          691194 non-null object\n",
      "state                            691194 non-null object\n",
      "localGovernmentAreas2011         678299 non-null object\n",
      "IMCRA4Regions                    12984 non-null object\n",
      "IBRA7Regions                     678384 non-null object\n",
      "minimumElevationInMeters         626 non-null float64\n",
      "maximumElevationInMeters         626 non-null float64\n",
      "minimumDepthInMeters             53 non-null float64\n",
      "maximumDepthInMeters             53 non-null float64\n",
      "individualCount                  626225 non-null object\n",
      "collector                        608336 non-null object\n",
      "year                             691194 non-null int64\n",
      "month                            691030 non-null float64\n",
      "day                              682407 non-null float64\n",
      "eventDate                        685839 non-null object\n",
      "verbatimEventDate                149658 non-null object\n",
      "basisOfRecordOriginal            163695 non-null object\n",
      "basisOfRecord                    691014 non-null object\n",
      "occurrenceStatus                 691194 non-null object\n",
      "sex                              85 non-null object\n",
      "preparations                     803 non-null object\n",
      "outlierForLayer                  290 non-null object\n",
      "taxonomicQuality                 691194 non-null bool\n",
      "locationQuality                  691181 non-null object\n",
      "dtypes: bool(1), float64(12), int64(2), object(43)\n",
      "memory usage: 306.5+ MB\n"
     ]
    }
   ],
   "source": [
    "df4.info()"
   ]
  },
  {
   "cell_type": "code",
   "execution_count": 7,
   "metadata": {},
   "outputs": [
    {
     "data": {
      "text/html": [
       "<div>\n",
       "<style scoped>\n",
       "    .dataframe tbody tr th:only-of-type {\n",
       "        vertical-align: middle;\n",
       "    }\n",
       "\n",
       "    .dataframe tbody tr th {\n",
       "        vertical-align: top;\n",
       "    }\n",
       "\n",
       "    .dataframe thead th {\n",
       "        text-align: right;\n",
       "    }\n",
       "</style>\n",
       "<table border=\"1\" class=\"dataframe\">\n",
       "  <thead>\n",
       "    <tr style=\"text-align: right;\">\n",
       "      <th></th>\n",
       "      <th>Unnamed: 0</th>\n",
       "      <th>id</th>\n",
       "      <th>catalogueNumber</th>\n",
       "      <th>taxonConceptLsid</th>\n",
       "      <th>scientificNameOriginal</th>\n",
       "      <th>commonNameOriginal</th>\n",
       "      <th>scientificName</th>\n",
       "      <th>rank</th>\n",
       "      <th>commonName</th>\n",
       "      <th>kingdom</th>\n",
       "      <th>...</th>\n",
       "      <th>eventDate</th>\n",
       "      <th>verbatimEventDate</th>\n",
       "      <th>basisOfRecordOriginal</th>\n",
       "      <th>basisOfRecord</th>\n",
       "      <th>occurrenceStatus</th>\n",
       "      <th>sex</th>\n",
       "      <th>preparations</th>\n",
       "      <th>outlierForLayer</th>\n",
       "      <th>taxonomicQuality</th>\n",
       "      <th>locationQuality</th>\n",
       "    </tr>\n",
       "  </thead>\n",
       "  <tbody>\n",
       "    <tr>\n",
       "      <th>0</th>\n",
       "      <td>166</td>\n",
       "      <td>da893b16-07bb-4ed6-b97a-98e928c69f83</td>\n",
       "      <td>NaN</td>\n",
       "      <td>urn:lsid:biodiversity.org.au:afd.taxon:0a200cc...</td>\n",
       "      <td>NaN</td>\n",
       "      <td>Regent Parrot</td>\n",
       "      <td>Polytelis anthopeplus</td>\n",
       "      <td>species</td>\n",
       "      <td>Regent Parrot</td>\n",
       "      <td>Animalia</td>\n",
       "      <td>...</td>\n",
       "      <td>NaN</td>\n",
       "      <td>NaN</td>\n",
       "      <td>NaN</td>\n",
       "      <td>HumanObservation</td>\n",
       "      <td>present</td>\n",
       "      <td>NaN</td>\n",
       "      <td>NaN</td>\n",
       "      <td>NaN</td>\n",
       "      <td>True</td>\n",
       "      <td>True</td>\n",
       "    </tr>\n",
       "    <tr>\n",
       "      <th>1</th>\n",
       "      <td>999</td>\n",
       "      <td>0de938c9-2e79-4b46-b79d-c4c31b5f700b</td>\n",
       "      <td>NaN</td>\n",
       "      <td>urn:lsid:biodiversity.org.au:afd.taxon:0a200cc...</td>\n",
       "      <td>NaN</td>\n",
       "      <td>Regent Parrot</td>\n",
       "      <td>Polytelis anthopeplus</td>\n",
       "      <td>species</td>\n",
       "      <td>Regent Parrot</td>\n",
       "      <td>Animalia</td>\n",
       "      <td>...</td>\n",
       "      <td>NaN</td>\n",
       "      <td>NaN</td>\n",
       "      <td>NaN</td>\n",
       "      <td>HumanObservation</td>\n",
       "      <td>present</td>\n",
       "      <td>NaN</td>\n",
       "      <td>NaN</td>\n",
       "      <td>NaN</td>\n",
       "      <td>True</td>\n",
       "      <td>True</td>\n",
       "    </tr>\n",
       "    <tr>\n",
       "      <th>2</th>\n",
       "      <td>1064</td>\n",
       "      <td>f34018b8-5427-4a60-b293-551e9bf74578</td>\n",
       "      <td>URN:CornellLabOfOrnithology:EBIRD:OBS696689847</td>\n",
       "      <td>urn:lsid:biodiversity.org.au:afd.taxon:0a200cc...</td>\n",
       "      <td>NaN</td>\n",
       "      <td>Regent Parrot</td>\n",
       "      <td>Polytelis anthopeplus</td>\n",
       "      <td>species</td>\n",
       "      <td>Regent Parrot</td>\n",
       "      <td>Animalia</td>\n",
       "      <td>...</td>\n",
       "      <td>NaN</td>\n",
       "      <td>NaN</td>\n",
       "      <td>NaN</td>\n",
       "      <td>HumanObservation</td>\n",
       "      <td>present</td>\n",
       "      <td>NaN</td>\n",
       "      <td>NaN</td>\n",
       "      <td>NaN</td>\n",
       "      <td>True</td>\n",
       "      <td>True</td>\n",
       "    </tr>\n",
       "    <tr>\n",
       "      <th>3</th>\n",
       "      <td>1066</td>\n",
       "      <td>f2417348-68f2-4cfb-bf65-c5ab33f677eb</td>\n",
       "      <td>URN:CornellLabOfOrnithology:EBIRD:OBS701319296</td>\n",
       "      <td>urn:lsid:biodiversity.org.au:afd.taxon:0a200cc...</td>\n",
       "      <td>NaN</td>\n",
       "      <td>Regent Parrot</td>\n",
       "      <td>Polytelis anthopeplus</td>\n",
       "      <td>species</td>\n",
       "      <td>Regent Parrot</td>\n",
       "      <td>Animalia</td>\n",
       "      <td>...</td>\n",
       "      <td>NaN</td>\n",
       "      <td>NaN</td>\n",
       "      <td>NaN</td>\n",
       "      <td>HumanObservation</td>\n",
       "      <td>present</td>\n",
       "      <td>NaN</td>\n",
       "      <td>NaN</td>\n",
       "      <td>NaN</td>\n",
       "      <td>True</td>\n",
       "      <td>True</td>\n",
       "    </tr>\n",
       "    <tr>\n",
       "      <th>4</th>\n",
       "      <td>1067</td>\n",
       "      <td>ef1a50a5-5f52-4294-a798-df628b188076</td>\n",
       "      <td>URN:CornellLabOfOrnithology:EBIRD:OBS459006642</td>\n",
       "      <td>urn:lsid:biodiversity.org.au:afd.taxon:0a200cc...</td>\n",
       "      <td>NaN</td>\n",
       "      <td>Regent Parrot</td>\n",
       "      <td>Polytelis anthopeplus</td>\n",
       "      <td>species</td>\n",
       "      <td>Regent Parrot</td>\n",
       "      <td>Animalia</td>\n",
       "      <td>...</td>\n",
       "      <td>NaN</td>\n",
       "      <td>NaN</td>\n",
       "      <td>NaN</td>\n",
       "      <td>HumanObservation</td>\n",
       "      <td>present</td>\n",
       "      <td>NaN</td>\n",
       "      <td>NaN</td>\n",
       "      <td>NaN</td>\n",
       "      <td>True</td>\n",
       "      <td>True</td>\n",
       "    </tr>\n",
       "  </tbody>\n",
       "</table>\n",
       "<p>5 rows × 58 columns</p>\n",
       "</div>"
      ],
      "text/plain": [
       "   Unnamed: 0                                    id  \\\n",
       "0         166  da893b16-07bb-4ed6-b97a-98e928c69f83   \n",
       "1         999  0de938c9-2e79-4b46-b79d-c4c31b5f700b   \n",
       "2        1064  f34018b8-5427-4a60-b293-551e9bf74578   \n",
       "3        1066  f2417348-68f2-4cfb-bf65-c5ab33f677eb   \n",
       "4        1067  ef1a50a5-5f52-4294-a798-df628b188076   \n",
       "\n",
       "                                  catalogueNumber  \\\n",
       "0                                             NaN   \n",
       "1                                             NaN   \n",
       "2  URN:CornellLabOfOrnithology:EBIRD:OBS696689847   \n",
       "3  URN:CornellLabOfOrnithology:EBIRD:OBS701319296   \n",
       "4  URN:CornellLabOfOrnithology:EBIRD:OBS459006642   \n",
       "\n",
       "                                    taxonConceptLsid scientificNameOriginal  \\\n",
       "0  urn:lsid:biodiversity.org.au:afd.taxon:0a200cc...                    NaN   \n",
       "1  urn:lsid:biodiversity.org.au:afd.taxon:0a200cc...                    NaN   \n",
       "2  urn:lsid:biodiversity.org.au:afd.taxon:0a200cc...                    NaN   \n",
       "3  urn:lsid:biodiversity.org.au:afd.taxon:0a200cc...                    NaN   \n",
       "4  urn:lsid:biodiversity.org.au:afd.taxon:0a200cc...                    NaN   \n",
       "\n",
       "  commonNameOriginal         scientificName     rank     commonName   kingdom  \\\n",
       "0      Regent Parrot  Polytelis anthopeplus  species  Regent Parrot  Animalia   \n",
       "1      Regent Parrot  Polytelis anthopeplus  species  Regent Parrot  Animalia   \n",
       "2      Regent Parrot  Polytelis anthopeplus  species  Regent Parrot  Animalia   \n",
       "3      Regent Parrot  Polytelis anthopeplus  species  Regent Parrot  Animalia   \n",
       "4      Regent Parrot  Polytelis anthopeplus  species  Regent Parrot  Animalia   \n",
       "\n",
       "        ...       eventDate verbatimEventDate basisOfRecordOriginal  \\\n",
       "0       ...             NaN               NaN                   NaN   \n",
       "1       ...             NaN               NaN                   NaN   \n",
       "2       ...             NaN               NaN                   NaN   \n",
       "3       ...             NaN               NaN                   NaN   \n",
       "4       ...             NaN               NaN                   NaN   \n",
       "\n",
       "      basisOfRecord occurrenceStatus  sex preparations outlierForLayer  \\\n",
       "0  HumanObservation          present  NaN          NaN             NaN   \n",
       "1  HumanObservation          present  NaN          NaN             NaN   \n",
       "2  HumanObservation          present  NaN          NaN             NaN   \n",
       "3  HumanObservation          present  NaN          NaN             NaN   \n",
       "4  HumanObservation          present  NaN          NaN             NaN   \n",
       "\n",
       "  taxonomicQuality locationQuality  \n",
       "0             True            True  \n",
       "1             True            True  \n",
       "2             True            True  \n",
       "3             True            True  \n",
       "4             True            True  \n",
       "\n",
       "[5 rows x 58 columns]"
      ]
     },
     "execution_count": 7,
     "metadata": {},
     "output_type": "execute_result"
    }
   ],
   "source": [
    "df4.head()"
   ]
  },
  {
   "cell_type": "code",
   "execution_count": 8,
   "metadata": {},
   "outputs": [
    {
     "data": {
      "text/plain": [
       "Index(['Unnamed: 0', 'id', 'catalogueNumber', 'taxonConceptLsid',\n",
       "       'scientificNameOriginal', 'commonNameOriginal', 'scientificName',\n",
       "       'rank', 'commonName', 'kingdom', 'phylum', 'class', 'order', 'family',\n",
       "       'genus', 'species', 'subspecies', 'dataResourceID', 'dataResourceName',\n",
       "       'institutionID', 'institution', 'collectionID', 'collection', 'licence',\n",
       "       'institutionCode', 'collectionCode', 'locality', 'latitudeOriginal',\n",
       "       'longitudeOriginal', 'geodeticDatumOriginal', 'latitude', 'longitude',\n",
       "       'coordinatePrecision', 'coordinateUncertaintyInMetres', 'country',\n",
       "       'state', 'localGovernmentAreas2011', 'IMCRA4Regions', 'IBRA7Regions',\n",
       "       'minimumElevationInMeters', 'maximumElevationInMeters',\n",
       "       'minimumDepthInMeters', 'maximumDepthInMeters', 'individualCount',\n",
       "       'collector', 'year', 'month', 'day', 'eventDate', 'verbatimEventDate',\n",
       "       'basisOfRecordOriginal', 'basisOfRecord', 'occurrenceStatus', 'sex',\n",
       "       'preparations', 'outlierForLayer', 'taxonomicQuality',\n",
       "       'locationQuality'],\n",
       "      dtype='object')"
      ]
     },
     "execution_count": 8,
     "metadata": {},
     "output_type": "execute_result"
    }
   ],
   "source": [
    "df4.columns"
   ]
  },
  {
   "cell_type": "code",
   "execution_count": 9,
   "metadata": {},
   "outputs": [],
   "source": [
    "#filtering out the columns required for our database.\n",
    "df5 = pd.DataFrame(df4,columns=[ 'scientificName','commonName', 'locality','latitude','longitude','eventDate','state','year'])"
   ]
  },
  {
   "cell_type": "code",
   "execution_count": 10,
   "metadata": {},
   "outputs": [
    {
     "data": {
      "text/plain": [
       "(691194, 8)"
      ]
     },
     "execution_count": 10,
     "metadata": {},
     "output_type": "execute_result"
    }
   ],
   "source": [
    "#check for unique records/ids\n",
    "df5.shape"
   ]
  },
  {
   "cell_type": "code",
   "execution_count": 11,
   "metadata": {},
   "outputs": [],
   "source": [
    "#dropping duplicates records\n",
    "df5 = df5.drop_duplicates(subset=[ 'scientificName','commonName', 'locality','latitude','longitude','eventDate','state','year'])"
   ]
  },
  {
   "cell_type": "code",
   "execution_count": 12,
   "metadata": {},
   "outputs": [
    {
     "data": {
      "text/plain": [
       "(430307, 8)"
      ]
     },
     "execution_count": 12,
     "metadata": {},
     "output_type": "execute_result"
    }
   ],
   "source": [
    "df5.shape"
   ]
  },
  {
   "cell_type": "code",
   "execution_count": 13,
   "metadata": {},
   "outputs": [
    {
     "data": {
      "text/plain": [
       "scientificName       92\n",
       "commonName        46425\n",
       "locality          12916\n",
       "latitude              7\n",
       "longitude             7\n",
       "eventDate          1263\n",
       "state                 0\n",
       "year                  0\n",
       "dtype: int64"
      ]
     },
     "execution_count": 13,
     "metadata": {},
     "output_type": "execute_result"
    }
   ],
   "source": [
    "df5.isnull().sum()"
   ]
  },
  {
   "cell_type": "code",
   "execution_count": 14,
   "metadata": {},
   "outputs": [],
   "source": [
    "df5 = df5[df5['year'] == 2019]"
   ]
  },
  {
   "cell_type": "code",
   "execution_count": 17,
   "metadata": {},
   "outputs": [],
   "source": [
    "df5 = df5[df5['state'] == 'Victoria']"
   ]
  },
  {
   "cell_type": "code",
   "execution_count": 18,
   "metadata": {},
   "outputs": [
    {
     "data": {
      "text/plain": [
       "(70409, 8)"
      ]
     },
     "execution_count": 18,
     "metadata": {},
     "output_type": "execute_result"
    }
   ],
   "source": [
    "df5.shape"
   ]
  },
  {
   "cell_type": "code",
   "execution_count": 19,
   "metadata": {},
   "outputs": [
    {
     "data": {
      "text/plain": [
       "scientificName       8\n",
       "commonName        9336\n",
       "locality          2880\n",
       "latitude             0\n",
       "longitude            0\n",
       "eventDate          197\n",
       "state                0\n",
       "year                 0\n",
       "dtype: int64"
      ]
     },
     "execution_count": 19,
     "metadata": {},
     "output_type": "execute_result"
    }
   ],
   "source": [
    "df5.isna().sum()"
   ]
  },
  {
   "cell_type": "code",
   "execution_count": null,
   "metadata": {},
   "outputs": [],
   "source": [
    "#I can see 7 records with no latitude and longitude."
   ]
  },
  {
   "cell_type": "code",
   "execution_count": 20,
   "metadata": {},
   "outputs": [],
   "source": [
    "#Firstly I am deleting data which do not have latitude and longitude because that will not serve our goal.\n",
    "#As our product is location wise.\n",
    "df5 = df5[df5['latitude'].notnull()]"
   ]
  },
  {
   "cell_type": "code",
   "execution_count": 21,
   "metadata": {},
   "outputs": [],
   "source": [
    "#checking error in latitude and longitude"
   ]
  },
  {
   "cell_type": "code",
   "execution_count": 22,
   "metadata": {},
   "outputs": [],
   "source": [
    "#the origin latitude  is negative in Victoria\n",
    "for index,row in df5.iterrows():\n",
    "    if row['latitude'] > 0:\n",
    "        df5.loc[index,'latitude'] *=-1\n",
    "#the longitude is positive in Victoria\n",
    "    if row['longitude'] < 0:\n",
    "        df5.loc[index,'longitude'] *=-1"
   ]
  },
  {
   "cell_type": "code",
   "execution_count": 23,
   "metadata": {},
   "outputs": [
    {
     "data": {
      "text/plain": [
       "scientificName       8\n",
       "commonName        9336\n",
       "locality          2880\n",
       "latitude             0\n",
       "longitude            0\n",
       "eventDate          197\n",
       "state                0\n",
       "year                 0\n",
       "dtype: int64"
      ]
     },
     "execution_count": 23,
     "metadata": {},
     "output_type": "execute_result"
    }
   ],
   "source": [
    "df5.isnull().sum()"
   ]
  },
  {
   "cell_type": "code",
   "execution_count": 24,
   "metadata": {},
   "outputs": [],
   "source": [
    "df5 = df5.dropna(how='any')"
   ]
  },
  {
   "cell_type": "code",
   "execution_count": 25,
   "metadata": {},
   "outputs": [
    {
     "name": "stdout",
     "output_type": "stream",
     "text": [
      "<class 'pandas.core.frame.DataFrame'>\n",
      "Int64Index: 59105 entries, 955 to 36\n",
      "Data columns (total 8 columns):\n",
      "scientificName    59105 non-null object\n",
      "commonName        59105 non-null object\n",
      "locality          59105 non-null object\n",
      "latitude          59105 non-null float64\n",
      "longitude         59105 non-null float64\n",
      "eventDate         59105 non-null object\n",
      "state             59105 non-null object\n",
      "year              59105 non-null int64\n",
      "dtypes: float64(2), int64(1), object(5)\n",
      "memory usage: 4.1+ MB\n"
     ]
    }
   ],
   "source": [
    "df5.info()"
   ]
  },
  {
   "cell_type": "code",
   "execution_count": 26,
   "metadata": {},
   "outputs": [],
   "source": [
    "#df5 is final dataframe for occurence records.\n"
   ]
  },
  {
   "cell_type": "code",
   "execution_count": null,
   "metadata": {},
   "outputs": [],
   "source": [
    "#Now I can see there are 54491 missing commonnames which needs to be filled as we user will see commonname of specie in UI.\n",
    "#I will use another file from Department of ENvironment and living to fill that column.\n",
    "tableaucsv = pd.read_csv('20190821spcs.csv')"
   ]
  },
  {
   "cell_type": "code",
   "execution_count": null,
   "metadata": {},
   "outputs": [],
   "source": [
    "commonnamedf.info()"
   ]
  },
  {
   "cell_type": "code",
   "execution_count": null,
   "metadata": {},
   "outputs": [],
   "source": [
    "commonnamedf = commonnamedf[commonnamedf['Kingdom']=='Animalia']"
   ]
  },
  {
   "cell_type": "code",
   "execution_count": null,
   "metadata": {},
   "outputs": [],
   "source": [
    "commonnamedf = commonnamedf[commonnamedf['VIC']=='Yes']"
   ]
  },
  {
   "cell_type": "code",
   "execution_count": null,
   "metadata": {},
   "outputs": [],
   "source": [
    "commonnamedf.shape"
   ]
  },
  {
   "cell_type": "code",
   "execution_count": null,
   "metadata": {},
   "outputs": [],
   "source": [
    "#No nulls in the data\n",
    "commonnamedf.isnull().sum()"
   ]
  },
  {
   "cell_type": "code",
   "execution_count": null,
   "metadata": {},
   "outputs": [],
   "source": [
    "commonnamedf = pd.DataFrame(commonnamedf,columns=['Scientific Name','Threatened status'])"
   ]
  },
  {
   "cell_type": "code",
   "execution_count": null,
   "metadata": {},
   "outputs": [],
   "source": [
    "commonnamedf.columns"
   ]
  },
  {
   "cell_type": "code",
   "execution_count": null,
   "metadata": {},
   "outputs": [],
   "source": [
    "commonnamedf['Scientific Name'].nunique()"
   ]
  },
  {
   "cell_type": "code",
   "execution_count": null,
   "metadata": {},
   "outputs": [],
   "source": [
    "#df5.to_csv('C:/Users/hp/Desktop/Iteration1/cleanedfinaldataset.csv',index=False)"
   ]
  },
  {
   "cell_type": "code",
   "execution_count": null,
   "metadata": {},
   "outputs": [],
   "source": [
    "#commonnamedf.to_csv('C:/Users/hp/Desktop/Iteration1/FinalThreatenedStatus.csv',index=False)"
   ]
  },
  {
   "cell_type": "code",
   "execution_count": null,
   "metadata": {},
   "outputs": [],
   "source": [
    "df5['scientificName'].nunique()"
   ]
  },
  {
   "cell_type": "code",
   "execution_count": null,
   "metadata": {},
   "outputs": [],
   "source": [
    "df6 = df5.drop_duplicates(subset=['scientificName','commonName'])"
   ]
  },
  {
   "cell_type": "code",
   "execution_count": null,
   "metadata": {},
   "outputs": [],
   "source": [
    "df7.to_csv('C:/Users/hp/Desktop/Iteration1/occurencedatabase.csv',index=False)"
   ]
  },
  {
   "cell_type": "code",
   "execution_count": null,
   "metadata": {},
   "outputs": [],
   "source": [
    "df9 = df7.iloc[50001:100000]"
   ]
  },
  {
   "cell_type": "code",
   "execution_count": null,
   "metadata": {},
   "outputs": [],
   "source": [
    "df9.to_csv('C:/Users/hp/Desktop/Iteration1/100000.csv',index=False)"
   ]
  },
  {
   "cell_type": "code",
   "execution_count": null,
   "metadata": {},
   "outputs": [],
   "source": [
    "df5.shape"
   ]
  },
  {
   "cell_type": "code",
   "execution_count": null,
   "metadata": {},
   "outputs": [],
   "source": [
    "#filtering out the columns required for our database.\n",
    "df7 = pd.DataFrame(df5,columns=['scientificName',\n",
    "       'locality','latitude','longitude','eventDate'])"
   ]
  },
  {
   "cell_type": "code",
   "execution_count": null,
   "metadata": {},
   "outputs": [],
   "source": [
    "df7"
   ]
  }
 ],
 "metadata": {
  "kernelspec": {
   "display_name": "Python 3",
   "language": "python",
   "name": "python3"
  },
  "language_info": {
   "codemirror_mode": {
    "name": "ipython",
    "version": 3
   },
   "file_extension": ".py",
   "mimetype": "text/x-python",
   "name": "python",
   "nbconvert_exporter": "python",
   "pygments_lexer": "ipython3",
   "version": "3.6.4"
  }
 },
 "nbformat": 4,
 "nbformat_minor": 2
}
